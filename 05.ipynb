{
  "nbformat": 4,
  "nbformat_minor": 0,
  "metadata": {
    "colab": {
      "provenance": []
    },
    "kernelspec": {
      "name": "python3",
      "display_name": "Python 3"
    },
    "language_info": {
      "name": "python"
    }
  },
  "cells": [
    {
      "cell_type": "code",
      "execution_count": 1,
      "metadata": {
        "colab": {
          "base_uri": "https://localhost:8080/"
        },
        "id": "iwVLZwSv8AeV",
        "outputId": "b0b22cd6-07a6-4a32-de55-48b4f49828ea"
      },
      "outputs": [
        {
          "output_type": "stream",
          "name": "stderr",
          "text": [
            "[nltk_data] Downloading package punkt to /root/nltk_data...\n",
            "[nltk_data]   Unzipping tokenizers/punkt.zip.\n"
          ]
        },
        {
          "output_type": "stream",
          "name": "stdout",
          "text": [
            "('this', 'is')\n",
            "('is', 'a')\n",
            "('a', 'very')\n",
            "('very', 'good')\n",
            "('good', 'book')\n",
            "('book', 'to')\n",
            "('to', 'study')\n"
          ]
        }
      ],
      "source": [
        "import nltk\n",
        "nltk.download('punkt')\n",
        "\n",
        "import nltk\n",
        "from nltk.util import ngrams\n",
        "\n",
        "\n",
        "samplText='this is a very good book to study'\n",
        "NGRAMS=ngrams(sequence=nltk.word_tokenize(samplText), n=2)\n",
        "for grams in NGRAMS:\n",
        "    print(grams)\n"
      ]
    },
    {
      "cell_type": "code",
      "source": [
        "import nltk\n",
        "from nltk import bigrams\n",
        "\n",
        "corpus = \"\"\"\n",
        "Thank you so much for your help.\n",
        "I really appreciate your help.\n",
        "Excuse me, do you know what time it is?\n",
        "I’m really sorry for not inviting you.\n",
        "I really like your watch.\n",
        "\"\"\"\n",
        "\n",
        "test_sentences = [\n",
        "    \"I really like your garden\",\n",
        "    \"I really sorry for your garden\",\n",
        "    \"I really appreciate your garden\"\n",
        "]\n",
        "\n",
        "corpus_tokens = nltk.word_tokenize(corpus.lower())\n",
        "test_tokens = [nltk.word_tokenize(sentence.lower()) for sentence in test_sentences]\n",
        "\n",
        "print(corpus_tokens)\n",
        "print(test_tokens)\n",
        "\n",
        "corpus_bigrams = list(bigrams(corpus_tokens))\n",
        "print(corpus_bigrams)\n",
        "total_bigrams = len(corpus_bigrams)\n",
        "bigram_counts = nltk.FreqDist(corpus_bigrams)\n",
        "print(total_bigrams)\n",
        "print(len(bigram_counts))"
      ],
      "metadata": {
        "id": "P1YNXk088gJe",
        "colab": {
          "base_uri": "https://localhost:8080/"
        },
        "outputId": "6c64cea1-0b54-4ce6-b6bb-7c140fd1319e"
      },
      "execution_count": 5,
      "outputs": [
        {
          "output_type": "stream",
          "name": "stdout",
          "text": [
            "['thank', 'you', 'so', 'much', 'for', 'your', 'help', '.', 'i', 'really', 'appreciate', 'your', 'help', '.', 'excuse', 'me', ',', 'do', 'you', 'know', 'what', 'time', 'it', 'is', '?', 'i', '’', 'm', 'really', 'sorry', 'for', 'not', 'inviting', 'you', '.', 'i', 'really', 'like', 'your', 'watch', '.']\n",
            "[['i', 'really', 'like', 'your', 'garden'], ['i', 'really', 'sorry', 'for', 'your', 'garden'], ['i', 'really', 'appreciate', 'your', 'garden']]\n",
            "[('thank', 'you'), ('you', 'so'), ('so', 'much'), ('much', 'for'), ('for', 'your'), ('your', 'help'), ('help', '.'), ('.', 'i'), ('i', 'really'), ('really', 'appreciate'), ('appreciate', 'your'), ('your', 'help'), ('help', '.'), ('.', 'excuse'), ('excuse', 'me'), ('me', ','), (',', 'do'), ('do', 'you'), ('you', 'know'), ('know', 'what'), ('what', 'time'), ('time', 'it'), ('it', 'is'), ('is', '?'), ('?', 'i'), ('i', '’'), ('’', 'm'), ('m', 'really'), ('really', 'sorry'), ('sorry', 'for'), ('for', 'not'), ('not', 'inviting'), ('inviting', 'you'), ('you', '.'), ('.', 'i'), ('i', 'really'), ('really', 'like'), ('like', 'your'), ('your', 'watch'), ('watch', '.')]\n",
            "40\n",
            "36\n"
          ]
        }
      ]
    },
    {
      "cell_type": "code",
      "source": [
        "print(total_bigrams)"
      ],
      "metadata": {
        "colab": {
          "base_uri": "https://localhost:8080/"
        },
        "id": "En5bOkx0A9Vd",
        "outputId": "199b61f7-a948-4fb0-b4b6-c3bffdaf5b10"
      },
      "execution_count": 4,
      "outputs": [
        {
          "output_type": "stream",
          "name": "stdout",
          "text": [
            "40\n"
          ]
        }
      ]
    },
    {
      "cell_type": "code",
      "source": [
        "def calculate_bigram_probability(bigram):\n",
        "    count_bigram = bigram_counts[bigram]\n",
        "    count_unigram = corpus_tokens.count(bigram[0])\n",
        "\n",
        "    smoothing = 0.1\n",
        "\n",
        "    probability = (count_bigram + smoothing) / (count_unigram + smoothing)\n",
        "    return probability\n"
      ],
      "metadata": {
        "id": "3dzxz239BBVt"
      },
      "execution_count": null,
      "outputs": []
    },
    {
      "cell_type": "code",
      "source": [
        "print(test_tokens)"
      ],
      "metadata": {
        "colab": {
          "base_uri": "https://localhost:8080/"
        },
        "id": "6iY0qf5wDEbt",
        "outputId": "aad3afa7-d4f1-43c7-95c4-6399790c8abb"
      },
      "execution_count": null,
      "outputs": [
        {
          "output_type": "stream",
          "name": "stdout",
          "text": [
            "[['i', 'really', 'like', 'your', 'garden'], ['i', 'really', 'sorry', 'for', 'your', 'garden'], ['i', 'really', 'appreciate', 'your', 'garden']]\n"
          ]
        }
      ]
    },
    {
      "cell_type": "code",
      "source": [
        "print(test_tokens[1:])"
      ],
      "metadata": {
        "colab": {
          "base_uri": "https://localhost:8080/"
        },
        "id": "2Cazks-qHuzE",
        "outputId": "27ffc232-195d-4317-dbf2-8db199d2f285"
      },
      "execution_count": null,
      "outputs": [
        {
          "output_type": "stream",
          "name": "stdout",
          "text": [
            "[['i', 'really', 'sorry', 'for', 'your', 'garden'], ['i', 'really', 'appreciate', 'your', 'garden']]\n"
          ]
        }
      ]
    },
    {
      "cell_type": "code",
      "source": [
        "for i, test_token in enumerate(test_tokens):\n",
        "    probability = 1.0\n",
        "    test_bigrams = list(zip(test_token, test_token[1:]))\n",
        "\n",
        "    for bigram in test_bigrams:\n",
        "        probability *= calculate_bigram_probability(bigram)\n",
        "\n",
        "    print(f\"Probability of Test Sentence {i+1}: {probability}\")\n"
      ],
      "metadata": {
        "colab": {
          "base_uri": "https://localhost:8080/"
        },
        "id": "pinIYI-kIneu",
        "outputId": "b9ca96ae-4291-4ac4-b60e-cdae436227d7"
      },
      "execution_count": null,
      "outputs": [
        {
          "output_type": "stream",
          "name": "stdout",
          "text": [
            "Probability of Test Sentence 1: 0.007754019670370246\n",
            "Probability of Test Sentence 2: 0.00406162935114632\n",
            "Probability of Test Sentence 3: 0.007754019670370246\n"
          ]
        }
      ]
    },
    {
      "cell_type": "code",
      "source": [
        "print(probability)"
      ],
      "metadata": {
        "colab": {
          "base_uri": "https://localhost:8080/"
        },
        "id": "AH-ZqTy6Js5t",
        "outputId": "79c5defb-4a29-4b7c-d6c1-521d946159ca"
      },
      "execution_count": null,
      "outputs": [
        {
          "output_type": "stream",
          "name": "stdout",
          "text": [
            "0.007754019670370246\n"
          ]
        }
      ]
    },
    {
      "cell_type": "code",
      "source": [
        "ab = ('your','garden')\n",
        "h = bigram_counts[ab]\n",
        "print(h)"
      ],
      "metadata": {
        "colab": {
          "base_uri": "https://localhost:8080/"
        },
        "id": "mw1vb9nDJwEd",
        "outputId": "94d9099d-7bad-4573-ef99-ff8d8ac391f5"
      },
      "execution_count": null,
      "outputs": [
        {
          "output_type": "stream",
          "name": "stdout",
          "text": [
            "0\n"
          ]
        }
      ]
    },
    {
      "cell_type": "code",
      "source": [
        "c = corpus_tokens.count('your')\n",
        "print(c)"
      ],
      "metadata": {
        "colab": {
          "base_uri": "https://localhost:8080/"
        },
        "id": "2C9CO5obKfSO",
        "outputId": "bac1c887-e0e4-44a8-9023-e984b0fe12d8"
      },
      "execution_count": null,
      "outputs": [
        {
          "output_type": "stream",
          "name": "stdout",
          "text": [
            "3\n"
          ]
        }
      ]
    },
    {
      "cell_type": "code",
      "source": [],
      "metadata": {
        "id": "h0NgBdenK2Bu"
      },
      "execution_count": null,
      "outputs": []
    },
    {
      "cell_type": "code",
      "source": [],
      "metadata": {
        "id": "jaLuisn-K3Qd"
      },
      "execution_count": null,
      "outputs": []
    }
  ]
}