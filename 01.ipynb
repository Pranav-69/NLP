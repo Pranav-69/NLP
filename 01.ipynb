{
  "cells": [
    {
      "cell_type": "markdown",
      "metadata": {
        "id": "jHhjyyKndc9h"
      },
      "source": [
        "# Part 1\n"
      ]
    },
    {
      "cell_type": "code",
      "execution_count": null,
      "metadata": {
        "id": "r_FwWGw0VvBV"
      },
      "outputs": [],
      "source": [
        "import spacy\n",
        "\n",
        "# Load the SpaCy English model\n",
        "nlp = spacy.load(\"en_core_web_sm\")"
      ]
    },
    {
      "cell_type": "code",
      "execution_count": null,
      "metadata": {
        "id": "L7v8mG1AV1Dy"
      },
      "outputs": [],
      "source": [
        "text = \"\"\"\n",
        "Nagpur is the third-largest city of the Indian state of Maharashtra after Mumbai and Pune. Known as the \"Orange City\", Nagpur is the 13th largest city in India by population. According to an Oxford's Economics report, Nagpur is projected to be the fifth fastest growing city in the world from 2019 to 2035 with an average growth of 8.41%. It has been proposed as one of the Smart Cities in Maharashtra and is one of the top ten cities in India in Smart City Project execution.\n",
        "\"\"\""
      ]
    },
    {
      "cell_type": "code",
      "execution_count": null,
      "metadata": {
        "colab": {
          "base_uri": "https://localhost:8080/"
        },
        "id": "1dETDsdqV3ua",
        "outputId": "f17df960-3298-40ec-c5da-80fa9f8413f5"
      },
      "outputs": [
        {
          "name": "stdout",
          "output_type": "stream",
          "text": [
            "\n",
            "Nagpur is the third-largest city of the Indian state of Maharashtra after Mumbai and Pune. Known as the \"Orange City\", Nagpur is the 13th largest city in India by population. According to an Oxford's Economics report, Nagpur is projected to be the fifth fastest growing city in the world from 2019 to 2035 with an average growth of 8.41%. It has been proposed as one of the Smart Cities in Maharashtra and is one of the top ten cities in India in Smart City Project execution.\n",
            "\n"
          ]
        }
      ],
      "source": [
        "print(text)"
      ]
    },
    {
      "cell_type": "code",
      "execution_count": null,
      "metadata": {
        "colab": {
          "base_uri": "https://localhost:8080/"
        },
        "id": "ZErUt6ojXQNV",
        "outputId": "4fa46300-012f-4bd7-dffc-262aaaf792e1"
      },
      "outputs": [
        {
          "name": "stdout",
          "output_type": "stream",
          "text": [
            "\n",
            " Nagpur is the third largest city of the Indian state of Maharashtra after Mumbai and Pune Known as the Orange City Nagpur is the 13th largest city in India by population According to an Oxford 's Economics report Nagpur is projected to be the fifth fastest growing city in the world from 2019 to 2035 with an average growth of 8.41 It has been proposed as one of the Smart Cities in Maharashtra and is one of the top ten cities in India in Smart City Project execution \n",
            "\n"
          ]
        }
      ],
      "source": [
        "doc=nlp(text)\n",
        "text_without_puntutaion=\" \".join(token.text for token in doc if not token.is_punct)\n",
        "print(text_without_puntutaion)"
      ]
    },
    {
      "cell_type": "code",
      "execution_count": null,
      "metadata": {
        "id": "2uieyN_pbc6B"
      },
      "outputs": [],
      "source": [
        "# Process the text with SpaCy\n",
        "doc = nlp(text)\n",
        "\n",
        "# Initialize variables to store extracted information\n",
        "area_rank_maharashtra = None\n",
        "area_rank_india = None\n",
        "future_growth = None"
      ]
    },
    {
      "cell_type": "code",
      "execution_count": null,
      "metadata": {
        "id": "q7cVSO7rYzLj"
      },
      "outputs": [],
      "source": [
        "# Extract numerical information using regular expressions\n",
        "for sent in doc.sents:\n",
        "    if \"Maharashtra\" in sent.text:\n",
        "        rank_match = re.search(r\"(\\w+)-largest city\", sent.text)\n",
        "        if rank_match:\n",
        "            area_rank_maharashtra = convert_to_int(rank_match.group(1))\n",
        "    elif \"India\" in sent.text:\n",
        "        rank_match = re.search(r\"\\d+(?:st|nd|rd|th) largest city\", sent.text)\n",
        "        if rank_match:\n",
        "            area_rank_india = int(re.findall(r\"\\d+\", rank_match.group())[0])\n",
        "    elif \"growth\" in sent.text:\n",
        "        growth_match = re.search(r\"\\d+\\.\\d+%\", sent.text)\n",
        "        if growth_match:\n",
        "            future_growth = growth_match.group()\n"
      ]
    },
    {
      "cell_type": "code",
      "execution_count": null,
      "metadata": {
        "colab": {
          "base_uri": "https://localhost:8080/"
        },
        "id": "YLYf0gzXbjM1",
        "outputId": "e6690260-fcfe-4082-e785-b6c76d8fc504"
      },
      "outputs": [
        {
          "name": "stdout",
          "output_type": "stream",
          "text": [
            "Area wise ranking of Nagpur in Maharashtra: 3\n",
            "Area wise ranking of Nagpur in India: 13\n",
            "Future economic growth of Nagpur: 8.41%\n"
          ]
        }
      ],
      "source": [
        "# Print the extracted information\n",
        "print(\"Area wise ranking of Nagpur in Maharashtra:\", area_rank_maharashtra)\n",
        "print(\"Area wise ranking of Nagpur in India:\", area_rank_india)\n",
        "print(\"Future economic growth of Nagpur:\", future_growth)"
      ]
    },
    {
      "cell_type": "markdown",
      "metadata": {
        "id": "1haq5lE0dpQd"
      },
      "source": [
        "# Part 2"
      ]
    },
    {
      "cell_type": "code",
      "execution_count": null,
      "metadata": {
        "id": "fTLLGMgFdygg"
      },
      "outputs": [],
      "source": [
        "import spacy\n",
        "import re\n"
      ]
    },
    {
      "cell_type": "code",
      "execution_count": null,
      "metadata": {
        "id": "mfi1vOCAdypI"
      },
      "outputs": [],
      "source": [
        "# Load the SpaCy English model\n",
        "nlp = spacy.load(\"en_core_web_sm\")\n",
        "\n",
        "# Given text\n",
        "text = \"\"\"\n",
        "Maharashtra has a Gross State Domestic Product (GSDP) of approximately USD 435 billion (2022-23), which makes it the largest economy in India. Maharashtra's contribution to India's growth is significant. The state accounts for 12.92% of India's GDP and has a per capita income that is higher than the national average.\n",
        "\"\"\""
      ]
    },
    {
      "cell_type": "code",
      "execution_count": null,
      "metadata": {
        "colab": {
          "base_uri": "https://localhost:8080/"
        },
        "id": "Uaxf7RXDd8xK",
        "outputId": "df13c508-1b5e-4dc1-fee1-2686fa94cebf"
      },
      "outputs": [
        {
          "name": "stdout",
          "output_type": "stream",
          "text": [
            "\n",
            "Maharashtra has a Gross State Domestic Product (GSDP) of approximately USD 435 billion (2022-23), which makes it the largest economy in India. Maharashtra's contribution to India's growth is significant. The state accounts for 12.92% of India's GDP and has a per capita income that is higher than the national average.\n",
            "\n"
          ]
        }
      ],
      "source": [
        "print(text)"
      ]
    },
    {
      "cell_type": "code",
      "execution_count": null,
      "metadata": {
        "id": "S2RqDO20dywB"
      },
      "outputs": [],
      "source": [
        "# Process the text with SpaCy\n",
        "doc = nlp(text)\n",
        "\n",
        "# Initialize variables to store extracted information\n",
        "contribution_to_economy = None\n",
        "maharashtra_gdp = None\n"
      ]
    },
    {
      "cell_type": "code",
      "execution_count": null,
      "metadata": {
        "id": "sxqyUQnmbkek"
      },
      "outputs": [],
      "source": [
        "# Extract information using regular expressions\n",
        "for sent in doc.sents:\n",
        "    # Extract Maharashtra GSDP for 2022-23\n",
        "    match_gdp = re.search(r'USD (\\d+(\\.\\d+)?) billion', sent.text)\n",
        "    if match_gdp:\n",
        "        maharashtra_gdp = float(match_gdp.group(1))\n",
        "\n",
        "    # Extract Contribution of Maharashtra in India's economy\n",
        "    match_contribution = re.search(r'(\\d+(\\.\\d+)?)%', sent.text)\n",
        "    if match_contribution:\n",
        "        contribution_to_economy = float(match_contribution.group(1))"
      ]
    },
    {
      "cell_type": "code",
      "execution_count": null,
      "metadata": {
        "colab": {
          "base_uri": "https://localhost:8080/"
        },
        "id": "FRQ0E9Q2eCuw",
        "outputId": "eb85f864-ffc0-4dc9-8aac-dfd2f5e8bd5e"
      },
      "outputs": [
        {
          "name": "stdout",
          "output_type": "stream",
          "text": [
            "Contribution of Maharashtra in India's economy: 12.92 %\n",
            "Maharashtra GSDP for 2022-23: USD 435.0 billion\n"
          ]
        }
      ],
      "source": [
        "# Print the extracted information\n",
        "print(\"Contribution of Maharashtra in India's economy:\", contribution_to_economy, \"%\")\n",
        "print(\"Maharashtra GSDP for 2022-23: USD\", maharashtra_gdp, \"billion\")"
      ]
    },
    {
      "cell_type": "code",
      "execution_count": null,
      "metadata": {
        "id": "dEX88VJweEUA"
      },
      "outputs": [],
      "source": []
    }
  ],
  "metadata": {
    "colab": {
      "provenance": []
    },
    "kernelspec": {
      "display_name": "Python 3",
      "name": "python3"
    },
    "language_info": {
      "name": "python"
    }
  },
  "nbformat": 4,
  "nbformat_minor": 0
}
